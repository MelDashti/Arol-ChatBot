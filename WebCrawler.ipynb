
{
“cells”: [
{
“cell_type”: “code”,
“execution_count”: null,
“id”: “f0e5fd3c-73ce-4772-acba-ec62dbbc4a90”,
“metadata”: {},
“outputs”: ,
“source”: [
“print("hello world")”
]
},
{
“cell_type”: “raw”,
“id”: “b9d6d461-d25d-4ae1-b806-5f2c0d3c8332”,
“metadata”: {},
“source”: [
“this is normal text”
]
},
],
“metadata”: {
“kernelspec”: {
“display_name”: “Python 3 (ipykernel)”,
“language”: “python”,
“name”: “python3”
},
“language_info”: {
“codemirror_mode”: {
“name”: “ipython”,
“version”: 3
},
“file_extension”: “.py”,
“mimetype”: “text/x-python”,
“name”: “python”,
“nbconvert_exporter”: “python”,
“pygments_lexer”: “ipython3”,
“version”: “3.10.4”
}
},
“nbformat”: 4,
“nbformat_minor”: 5
}
